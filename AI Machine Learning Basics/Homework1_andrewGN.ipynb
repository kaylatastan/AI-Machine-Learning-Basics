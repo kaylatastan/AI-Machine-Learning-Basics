{
 "cells": [
  {
   "cell_type": "code",
   "execution_count": 2,
   "id": "5700256e-32ab-484b-a2af-5f4a0b3cbd64",
   "metadata": {},
   "outputs": [],
   "source": [
    "#Libraries/Modules\n",
    "import numpy as np\n",
    "import matplotlib.pyplot as plt\n",
    "import utils\n",
    "import copy\n",
    "import math\n",
    "%matplotlib inline"
   ]
  },
  {
   "cell_type": "code",
   "execution_count": 3,
   "id": "117c26bf-cf43-4280-8963-9e222d186699",
   "metadata": {
    "scrolled": true
   },
   "outputs": [
    {
     "ename": "NameError",
     "evalue": "name 'utils' is not defined",
     "output_type": "error",
     "traceback": [
      "\u001b[1;31m---------------------------------------------------------------------------\u001b[0m",
      "\u001b[1;31mNameError\u001b[0m                                 Traceback (most recent call last)",
      "Cell \u001b[1;32mIn[3], line 1\u001b[0m\n\u001b[1;32m----> 1\u001b[0m x_train, y_test \u001b[38;5;241m=\u001b[39m utils\u001b[38;5;241m.\u001b[39mload_data()\n",
      "\u001b[1;31mNameError\u001b[0m: name 'utils' is not defined"
     ]
    }
   ],
   "source": [
    "x_train, y_test = utils.load_data()"
   ]
  },
  {
   "cell_type": "code",
   "execution_count": null,
   "id": "fc2e8883-82a0-4229-8972-af572e2055d3",
   "metadata": {},
   "outputs": [],
   "source": [
    "print(\"Type of x_shape = \", type(x_train))\n",
    "print(\"Firsst 5 elements: \", x_train[:5])"
   ]
  },
  {
   "cell_type": "code",
   "execution_count": null,
   "id": "d797d763-8a80-45dc-907a-8c16f08d65d8",
   "metadata": {},
   "outputs": [],
   "source": [
    "print(\"Type of y_shape = \", type(y_train))\n",
    "print(\"First 5 elements: \", y_train[:5])"
   ]
  },
  {
   "cell_type": "code",
   "execution_count": null,
   "id": "2fec6f24-0d77-4f1b-afa8-3553387066f6",
   "metadata": {},
   "outputs": [],
   "source": [
    "print(\"The shape of x_train is:  \", x_train.shape)\n",
    "print(\"First 5 elements: \", y_train.shape)\n",
    "pirnt(\"NUmber of training x_shape: \", len(x_train))"
   ]
  },
  {
   "cell_type": "code",
   "execution_count": null,
   "id": "a72ee098-6d6a-4d24-b931-5b526c384647",
   "metadata": {},
   "outputs": [],
   "source": [
    "plt.scatter(x_train, y_traini marker = 'x', c = 'r')\n",
    "\n",
    "plt.title(\"Profis vs. Population per city\")\n",
    "plt.xlabel(\"Population of city in 10k\")\n",
    "plt.ylabel(\"Profits of restaurants in 10k\")\n",
    "plt.show()"
   ]
  },
  {
   "cell_type": "code",
   "execution_count": null,
   "id": "a071e151-ed5d-4209-ac01-bd6d23c43b6e",
   "metadata": {},
   "outputs": [],
   "source": [
    "def compute_cost(x, y, w, b):\n",
    "    m = x.shape[0]\n",
    "\n",
    "total_cost = 0\n",
    "\n",
    "h = 0\n",
    "for i in range(m):\n",
    "    # whic is basicly representing out function F(w,b) = w.x(i) + b\n",
    "    f_wb = w * x[i] + b\n",
    "\n",
    "    cost = (f_wb - y[i]) ** 2\n",
    "\n",
    "    cost_sum = cost_sum + sum\n",
    "    \n",
    "total_cost =  ( 1 / (2 * m)) * cost_sum\n",
    "    "
   ]
  }
 ],
 "metadata": {
  "kernelspec": {
   "display_name": "Python 3 (ipykernel)",
   "language": "python",
   "name": "python3"
  },
  "language_info": {
   "codemirror_mode": {
    "name": "ipython",
    "version": 3
   },
   "file_extension": ".py",
   "mimetype": "text/x-python",
   "name": "python",
   "nbconvert_exporter": "python",
   "pygments_lexer": "ipython3",
   "version": "3.11.7"
  }
 },
 "nbformat": 4,
 "nbformat_minor": 5
}
